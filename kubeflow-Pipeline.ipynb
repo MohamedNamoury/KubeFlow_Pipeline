{
 "cells": [
  {
   "cell_type": "markdown",
   "metadata": {},
   "source": [
    "## Building Docker Artifacts"
   ]
  },
  {
   "cell_type": "code",
   "execution_count": 25,
   "metadata": {},
   "outputs": [
    {
     "name": "stdout",
     "output_type": "stream",
     "text": [
      "/home/melnamoury/Desktop/kubeflow-sdk-demo/pipeline_components\n"
     ]
    }
   ],
   "source": [
    "cd pipeline_components"
   ]
  },
  {
   "cell_type": "code",
   "execution_count": 27,
   "metadata": {},
   "outputs": [
    {
     "name": "stdout",
     "output_type": "stream",
     "text": [
      "WARNING! Using --password via the CLI is insecure. Use --password-stdin.\n",
      "WARNING! Your password will be stored unencrypted in /home/melnamoury/.docker/config.json.\n",
      "Configure a credential helper to remove this warning. See\n",
      "https://docs.docker.com/engine/reference/commandline/login/#credentials-store\n",
      "\n",
      "Login Succeeded\n"
     ]
    }
   ],
   "source": [
    "!docker login -u username -p password"
   ]
  },
  {
   "cell_type": "code",
   "execution_count": 28,
   "metadata": {},
   "outputs": [
    {
     "name": "stdout",
     "output_type": "stream",
     "text": [
      "Writing config.py\n"
     ]
    }
   ],
   "source": [
    "%%writefile config.py\n",
    "Bucket_uri=\"Bucket URI\"\n",
    "version=1\n",
    "store_artifacts=Bucket_uri + \"/\" + str(version)\n",
    "data_path=Bucket_uri + \"/\" + \"data/train.csv\"\n",
    "processed_data=Bucket_uri + \"/\" + \"processed/data_processed.csv\""
   ]
  },
  {
   "cell_type": "code",
   "execution_count": 46,
   "metadata": {},
   "outputs": [
    {
     "name": "stdout",
     "output_type": "stream",
     "text": [
      "Overwriting Dockerfile\n"
     ]
    }
   ],
   "source": [
    "%%writefile Dockerfile\n",
    "FROM gcr.io/deeplearning-platform-release/tf-cpu\n",
    "ARG DEBIAN_FRONTEND=noninteractive\n",
    "# Install apt dependencies\n",
    "WORKDIR /pipeline\n",
    "COPY ./ ./\n",
    "RUN pip install -r requirements.txt\n",
    "RUN pip install \"dask[dataframe]\" --upgrade\n",
    "ENV TF_CPP_MIN_LOG_LEVEL 3"
   ]
  },
  {
   "cell_type": "markdown",
   "metadata": {},
   "source": [
    "## Build Docker Image"
   ]
  },
  {
   "cell_type": "code",
   "execution_count": 47,
   "metadata": {},
   "outputs": [
    {
     "name": "stdout",
     "output_type": "stream",
     "text": [
      "Sending build context to Docker daemon  4.657MB\n",
      "Step 1/7 : FROM gcr.io/deeplearning-platform-release/tf-cpu\n",
      " ---> 20d85d5ff60a\n",
      "Step 2/7 : ARG DEBIAN_FRONTEND=noninteractive\n",
      " ---> Using cache\n",
      " ---> a8595af4abb3\n",
      "Step 3/7 : WORKDIR /pipeline\n",
      " ---> Running in 811678c3b1a2\n",
      "Removing intermediate container 811678c3b1a2\n",
      " ---> 89afbec689bd\n",
      "Step 4/7 : COPY ./ ./\n",
      " ---> 496e65e8bfd8\n",
      "Step 5/7 : RUN pip install -r requirements.txt\n",
      " ---> Running in 5edfa81b3820\n",
      "Collecting sklearn\n",
      "  Downloading sklearn-0.0.tar.gz (1.1 kB)\n",
      "  Preparing metadata (setup.py): started\n",
      "  Preparing metadata (setup.py): finished with status 'done'\n",
      "Requirement already satisfied: pandas in /opt/conda/lib/python3.7/site-packages (from -r requirements.txt (line 2)) (1.3.5)\n",
      "Requirement already satisfied: seaborn in /opt/conda/lib/python3.7/site-packages (from -r requirements.txt (line 3)) (0.11.2)\n",
      "Requirement already satisfied: matplotlib in /opt/conda/lib/python3.7/site-packages (from -r requirements.txt (line 4)) (3.5.2)\n",
      "Collecting xgboost\n",
      "  Downloading xgboost-1.6.1-py3-none-manylinux2014_x86_64.whl (192.9 MB)\n",
      "     ━━━━━━━━━━━━━━━━━━━━━━━━━━━━━━━━━━━━━━━ 192.9/192.9 MB 2.0 MB/s eta 0:00:00\n",
      "Requirement already satisfied: google-api-python-client in /opt/conda/lib/python3.7/site-packages (from -r requirements.txt (line 6)) (2.55.0)\n",
      "Collecting dask[dataframe]\n",
      "  Downloading dask-2022.2.0-py3-none-any.whl (1.1 MB)\n",
      "     ━━━━━━━━━━━━━━━━━━━━━━━━━━━━━━━━━━━━━━━━ 1.1/1.1 MB 1.5 MB/s eta 0:00:00\n",
      "Requirement already satisfied: gcsfs in /opt/conda/lib/python3.7/site-packages (from -r requirements.txt (line 8)) (2022.7.1)\n",
      "Collecting google-cloud\n",
      "  Downloading google_cloud-0.34.0-py2.py3-none-any.whl (1.8 kB)\n",
      "Requirement already satisfied: google-cloud-storage in /opt/conda/lib/python3.7/site-packages (from -r requirements.txt (line 10)) (2.5.0)\n",
      "Requirement already satisfied: scikit-learn in /opt/conda/lib/python3.7/site-packages (from sklearn->-r requirements.txt (line 1)) (1.0.2)\n",
      "Requirement already satisfied: python-dateutil>=2.7.3 in /opt/conda/lib/python3.7/site-packages (from pandas->-r requirements.txt (line 2)) (2.8.2)\n",
      "Requirement already satisfied: pytz>=2017.3 in /opt/conda/lib/python3.7/site-packages (from pandas->-r requirements.txt (line 2)) (2022.1)\n",
      "Requirement already satisfied: numpy>=1.17.3 in /opt/conda/lib/python3.7/site-packages (from pandas->-r requirements.txt (line 2)) (1.19.5)\n",
      "Requirement already satisfied: scipy>=1.0 in /opt/conda/lib/python3.7/site-packages (from seaborn->-r requirements.txt (line 3)) (1.7.3)\n",
      "Requirement already satisfied: pyparsing>=2.2.1 in /opt/conda/lib/python3.7/site-packages (from matplotlib->-r requirements.txt (line 4)) (3.0.9)\n",
      "Requirement already satisfied: packaging>=20.0 in /opt/conda/lib/python3.7/site-packages (from matplotlib->-r requirements.txt (line 4)) (21.3)\n",
      "Requirement already satisfied: pillow>=6.2.0 in /opt/conda/lib/python3.7/site-packages (from matplotlib->-r requirements.txt (line 4)) (9.2.0)\n",
      "Requirement already satisfied: fonttools>=4.22.0 in /opt/conda/lib/python3.7/site-packages (from matplotlib->-r requirements.txt (line 4)) (4.34.4)\n",
      "Requirement already satisfied: cycler>=0.10 in /opt/conda/lib/python3.7/site-packages (from matplotlib->-r requirements.txt (line 4)) (0.11.0)\n",
      "Requirement already satisfied: kiwisolver>=1.0.1 in /opt/conda/lib/python3.7/site-packages (from matplotlib->-r requirements.txt (line 4)) (1.4.4)\n",
      "Requirement already satisfied: uritemplate<5,>=3.0.1 in /opt/conda/lib/python3.7/site-packages (from google-api-python-client->-r requirements.txt (line 6)) (4.1.1)\n",
      "Requirement already satisfied: google-auth<3.0.0dev,>=1.19.0 in /opt/conda/lib/python3.7/site-packages (from google-api-python-client->-r requirements.txt (line 6)) (2.10.0)\n",
      "Requirement already satisfied: google-auth-httplib2>=0.1.0 in /opt/conda/lib/python3.7/site-packages (from google-api-python-client->-r requirements.txt (line 6)) (0.1.0)\n",
      "Requirement already satisfied: google-api-core!=2.0.*,!=2.1.*,!=2.2.*,!=2.3.0,<3.0.0dev,>=1.31.5 in /opt/conda/lib/python3.7/site-packages (from google-api-python-client->-r requirements.txt (line 6)) (2.8.1)\n",
      "Requirement already satisfied: httplib2<1dev,>=0.15.0 in /opt/conda/lib/python3.7/site-packages (from google-api-python-client->-r requirements.txt (line 6)) (0.20.4)\n",
      "Collecting partd>=0.3.10\n",
      "  Downloading partd-1.3.0-py3-none-any.whl (18 kB)\n",
      "Requirement already satisfied: pyyaml>=5.3.1 in /opt/conda/lib/python3.7/site-packages (from dask[dataframe]->-r requirements.txt (line 7)) (6.0)\n",
      "Collecting toolz>=0.8.2\n",
      "  Downloading toolz-0.12.0-py3-none-any.whl (55 kB)\n",
      "     ━━━━━━━━━━━━━━━━━━━━━━━━━━━━━━━━━━━━━━━━ 55.8/55.8 kB 2.8 MB/s eta 0:00:00\n",
      "Requirement already satisfied: cloudpickle>=1.1.1 in /opt/conda/lib/python3.7/site-packages (from dask[dataframe]->-r requirements.txt (line 7)) (2.1.0)\n",
      "Requirement already satisfied: fsspec>=0.6.0 in /opt/conda/lib/python3.7/site-packages (from dask[dataframe]->-r requirements.txt (line 7)) (2022.7.1)\n",
      "Requirement already satisfied: requests in /opt/conda/lib/python3.7/site-packages (from gcsfs->-r requirements.txt (line 8)) (2.28.1)\n",
      "Requirement already satisfied: google-auth-oauthlib in /opt/conda/lib/python3.7/site-packages (from gcsfs->-r requirements.txt (line 8)) (0.5.2)\n",
      "Requirement already satisfied: decorator>4.1.2 in /opt/conda/lib/python3.7/site-packages (from gcsfs->-r requirements.txt (line 8)) (5.1.1)\n",
      "Requirement already satisfied: aiohttp in /opt/conda/lib/python3.7/site-packages (from gcsfs->-r requirements.txt (line 8)) (3.8.1)\n",
      "Requirement already satisfied: google-resumable-media>=2.3.2 in /opt/conda/lib/python3.7/site-packages (from google-cloud-storage->-r requirements.txt (line 10)) (2.3.3)\n",
      "Requirement already satisfied: google-cloud-core<3.0dev,>=2.3.0 in /opt/conda/lib/python3.7/site-packages (from google-cloud-storage->-r requirements.txt (line 10)) (2.3.2)\n",
      "Requirement already satisfied: googleapis-common-protos<2.0dev,>=1.56.2 in /opt/conda/lib/python3.7/site-packages (from google-api-core!=2.0.*,!=2.1.*,!=2.2.*,!=2.3.0,<3.0.0dev,>=1.31.5->google-api-python-client->-r requirements.txt (line 6)) (1.56.4)\n",
      "Requirement already satisfied: protobuf<4.0.0dev,>=3.15.0 in /opt/conda/lib/python3.7/site-packages (from google-api-core!=2.0.*,!=2.1.*,!=2.2.*,!=2.3.0,<3.0.0dev,>=1.31.5->google-api-python-client->-r requirements.txt (line 6)) (3.20.1)\n",
      "Requirement already satisfied: six>=1.9.0 in /opt/conda/lib/python3.7/site-packages (from google-auth<3.0.0dev,>=1.19.0->google-api-python-client->-r requirements.txt (line 6)) (1.16.0)\n",
      "Requirement already satisfied: cachetools<6.0,>=2.0.0 in /opt/conda/lib/python3.7/site-packages (from google-auth<3.0.0dev,>=1.19.0->google-api-python-client->-r requirements.txt (line 6)) (5.0.0)\n",
      "Requirement already satisfied: pyasn1-modules>=0.2.1 in /opt/conda/lib/python3.7/site-packages (from google-auth<3.0.0dev,>=1.19.0->google-api-python-client->-r requirements.txt (line 6)) (0.2.7)\n",
      "Requirement already satisfied: rsa<5,>=3.1.4 in /opt/conda/lib/python3.7/site-packages (from google-auth<3.0.0dev,>=1.19.0->google-api-python-client->-r requirements.txt (line 6)) (4.9)\n",
      "Requirement already satisfied: google-crc32c<2.0dev,>=1.0 in /opt/conda/lib/python3.7/site-packages (from google-resumable-media>=2.3.2->google-cloud-storage->-r requirements.txt (line 10)) (1.1.2)\n",
      "Requirement already satisfied: typing-extensions in /opt/conda/lib/python3.7/site-packages (from kiwisolver>=1.0.1->matplotlib->-r requirements.txt (line 4)) (4.3.0)\n",
      "Collecting locket\n",
      "  Downloading locket-1.0.0-py2.py3-none-any.whl (4.4 kB)\n",
      "Requirement already satisfied: certifi>=2017.4.17 in /opt/conda/lib/python3.7/site-packages (from requests->gcsfs->-r requirements.txt (line 8)) (2022.6.15)\n",
      "Requirement already satisfied: urllib3<1.27,>=1.21.1 in /opt/conda/lib/python3.7/site-packages (from requests->gcsfs->-r requirements.txt (line 8)) (1.26.11)\n",
      "Requirement already satisfied: idna<4,>=2.5 in /opt/conda/lib/python3.7/site-packages (from requests->gcsfs->-r requirements.txt (line 8)) (3.3)\n",
      "Requirement already satisfied: charset-normalizer<3,>=2 in /opt/conda/lib/python3.7/site-packages (from requests->gcsfs->-r requirements.txt (line 8)) (2.1.0)\n",
      "Requirement already satisfied: asynctest==0.13.0 in /opt/conda/lib/python3.7/site-packages (from aiohttp->gcsfs->-r requirements.txt (line 8)) (0.13.0)\n",
      "Requirement already satisfied: async-timeout<5.0,>=4.0.0a3 in /opt/conda/lib/python3.7/site-packages (from aiohttp->gcsfs->-r requirements.txt (line 8)) (4.0.2)\n",
      "Requirement already satisfied: multidict<7.0,>=4.5 in /opt/conda/lib/python3.7/site-packages (from aiohttp->gcsfs->-r requirements.txt (line 8)) (6.0.2)\n",
      "Requirement already satisfied: frozenlist>=1.1.1 in /opt/conda/lib/python3.7/site-packages (from aiohttp->gcsfs->-r requirements.txt (line 8)) (1.3.1)\n",
      "Requirement already satisfied: aiosignal>=1.1.2 in /opt/conda/lib/python3.7/site-packages (from aiohttp->gcsfs->-r requirements.txt (line 8)) (1.2.0)\n",
      "Requirement already satisfied: yarl<2.0,>=1.0 in /opt/conda/lib/python3.7/site-packages (from aiohttp->gcsfs->-r requirements.txt (line 8)) (1.7.2)\n",
      "Requirement already satisfied: attrs>=17.3.0 in /opt/conda/lib/python3.7/site-packages (from aiohttp->gcsfs->-r requirements.txt (line 8)) (22.1.0)\n",
      "Requirement already satisfied: requests-oauthlib>=0.7.0 in /opt/conda/lib/python3.7/site-packages (from google-auth-oauthlib->gcsfs->-r requirements.txt (line 8)) (1.3.1)\n",
      "Requirement already satisfied: threadpoolctl>=2.0.0 in /opt/conda/lib/python3.7/site-packages (from scikit-learn->sklearn->-r requirements.txt (line 1)) (3.1.0)\n",
      "Requirement already satisfied: joblib>=0.11 in /opt/conda/lib/python3.7/site-packages (from scikit-learn->sklearn->-r requirements.txt (line 1)) (1.0.1)\n",
      "Requirement already satisfied: cffi>=1.0.0 in /opt/conda/lib/python3.7/site-packages (from google-crc32c<2.0dev,>=1.0->google-resumable-media>=2.3.2->google-cloud-storage->-r requirements.txt (line 10)) (1.15.1)\n",
      "Requirement already satisfied: pyasn1<0.5.0,>=0.4.6 in /opt/conda/lib/python3.7/site-packages (from pyasn1-modules>=0.2.1->google-auth<3.0.0dev,>=1.19.0->google-api-python-client->-r requirements.txt (line 6)) (0.4.8)\n",
      "Requirement already satisfied: oauthlib>=3.0.0 in /opt/conda/lib/python3.7/site-packages (from requests-oauthlib>=0.7.0->google-auth-oauthlib->gcsfs->-r requirements.txt (line 8)) (3.2.0)\n",
      "Requirement already satisfied: pycparser in /opt/conda/lib/python3.7/site-packages (from cffi>=1.0.0->google-crc32c<2.0dev,>=1.0->google-resumable-media>=2.3.2->google-cloud-storage->-r requirements.txt (line 10)) (2.21)\n",
      "Building wheels for collected packages: sklearn\n",
      "  Building wheel for sklearn (setup.py): started\n",
      "  Building wheel for sklearn (setup.py): finished with status 'done'\n",
      "  Created wheel for sklearn: filename=sklearn-0.0-py2.py3-none-any.whl size=1310 sha256=f6fdddb1b3245d1c4f6e6ebf681c13b34e87248866c9afa647115ae9e72d387c\n",
      "  Stored in directory: /root/.cache/pip/wheels/46/ef/c3/157e41f5ee1372d1be90b09f74f82b10e391eaacca8f22d33e\n",
      "Successfully built sklearn\n",
      "Installing collected packages: google-cloud, toolz, locket, xgboost, partd, sklearn, dask\n",
      "Successfully installed dask-2022.2.0 google-cloud-0.34.0 locket-1.0.0 partd-1.3.0 sklearn-0.0 toolz-0.12.0 xgboost-1.6.1\n",
      "\u001b[91mWARNING: Running pip as the 'root' user can result in broken permissions and conflicting behaviour with the system package manager. It is recommended to use a virtual environment instead: https://pip.pypa.io/warnings/venv\n",
      "\u001b[0mRemoving intermediate container 5edfa81b3820\n",
      " ---> 6d961e4cc2d7\n",
      "Step 6/7 : RUN pip install \"dask[dataframe]\" --upgrade\n",
      " ---> Running in 4e52e366d5dd\n",
      "Requirement already satisfied: dask[dataframe] in /opt/conda/lib/python3.7/site-packages (2022.2.0)\n",
      "Requirement already satisfied: toolz>=0.8.2 in /opt/conda/lib/python3.7/site-packages (from dask[dataframe]) (0.12.0)\n",
      "Requirement already satisfied: pyyaml>=5.3.1 in /opt/conda/lib/python3.7/site-packages (from dask[dataframe]) (6.0)\n",
      "Requirement already satisfied: partd>=0.3.10 in /opt/conda/lib/python3.7/site-packages (from dask[dataframe]) (1.3.0)\n",
      "Requirement already satisfied: cloudpickle>=1.1.1 in /opt/conda/lib/python3.7/site-packages (from dask[dataframe]) (2.1.0)\n",
      "Requirement already satisfied: fsspec>=0.6.0 in /opt/conda/lib/python3.7/site-packages (from dask[dataframe]) (2022.7.1)\n",
      "Requirement already satisfied: packaging>=20.0 in /opt/conda/lib/python3.7/site-packages (from dask[dataframe]) (21.3)\n",
      "Requirement already satisfied: pandas>=1.0 in /opt/conda/lib/python3.7/site-packages (from dask[dataframe]) (1.3.5)\n",
      "Requirement already satisfied: numpy>=1.18 in /opt/conda/lib/python3.7/site-packages (from dask[dataframe]) (1.19.5)\n",
      "Requirement already satisfied: pyparsing!=3.0.5,>=2.0.2 in /opt/conda/lib/python3.7/site-packages (from packaging>=20.0->dask[dataframe]) (3.0.9)\n",
      "Requirement already satisfied: python-dateutil>=2.7.3 in /opt/conda/lib/python3.7/site-packages (from pandas>=1.0->dask[dataframe]) (2.8.2)\n",
      "Requirement already satisfied: pytz>=2017.3 in /opt/conda/lib/python3.7/site-packages (from pandas>=1.0->dask[dataframe]) (2022.1)\n",
      "Requirement already satisfied: locket in /opt/conda/lib/python3.7/site-packages (from partd>=0.3.10->dask[dataframe]) (1.0.0)\n",
      "Requirement already satisfied: six>=1.5 in /opt/conda/lib/python3.7/site-packages (from python-dateutil>=2.7.3->pandas>=1.0->dask[dataframe]) (1.16.0)\n",
      "\u001b[91mWARNING: Running pip as the 'root' user can result in broken permissions and conflicting behaviour with the system package manager. It is recommended to use a virtual environment instead: https://pip.pypa.io/warnings/venv\n",
      "\u001b[0mRemoving intermediate container 4e52e366d5dd\n",
      " ---> edaf9249316b\n",
      "Step 7/7 : ENV TF_CPP_MIN_LOG_LEVEL 3\n",
      " ---> Running in 7dcef4080570\n",
      "Removing intermediate container 7dcef4080570\n",
      " ---> c2a4b664038a\n",
      "Successfully built c2a4b664038a\n",
      "Successfully tagged melnamoury/kubeflow-sdk-farmer:latest\n"
     ]
    }
   ],
   "source": [
    "!docker build -t melnamoury/kubeflow-sdk-farmer ."
   ]
  },
  {
   "cell_type": "markdown",
   "metadata": {},
   "source": [
    "## Push Docker Image to Docker hub"
   ]
  },
  {
   "cell_type": "code",
   "execution_count": 48,
   "metadata": {},
   "outputs": [
    {
     "name": "stdout",
     "output_type": "stream",
     "text": [
      "The push refers to repository [docker.io/melnamoury/kubeflow-sdk-farmer]\n",
      "\n",
      "\u001b[1Ba508d677: Preparing \n",
      "\u001b[1Beee8f0b9: Preparing \n",
      "\u001b[1B9fde6097: Preparing \n",
      "\u001b[1B81ed4975: Preparing \n",
      "\u001b[1Bdaf002b4: Preparing \n",
      "\u001b[1B99a0501a: Preparing \n",
      "\u001b[1Bd66050d7: Preparing \n",
      "\u001b[1Bbcab0add: Preparing \n",
      "\u001b[1Ba316c5c6: Preparing \n",
      "\u001b[1B198535a8: Preparing \n",
      "\u001b[1B41727f83: Preparing \n",
      "\u001b[1B5878c855: Preparing \n",
      "\u001b[1B78b45d85: Preparing \n",
      "\u001b[5B198535a8: Waiting g \n",
      "\u001b[1B59494948: Preparing \n",
      "\u001b[4B78b45d85: Waiting g \n",
      "\u001b[6B5878c855: Waiting g \n",
      "\u001b[1B52904e20: Preparing \n",
      "\u001b[6B5965a208: Waiting g \n",
      "\u001b[1B8c5c8a78: Preparing \n",
      "\u001b[7B59494948: Waiting g \n",
      "\u001b[1B5afcf21f: Preparing \n",
      "\u001b[17B66050d7: Pushing  78.97MB/3.222GB\u001b[23A\u001b[2K\u001b[20A\u001b[2K\u001b[21A\u001b[2K\u001b[19A\u001b[2K\u001b[21A\u001b[2K\u001b[21A\u001b[2K\u001b[22A\u001b[2K\u001b[19A\u001b[2K\u001b[19A\u001b[2K\u001b[19A\u001b[2K\u001b[19A\u001b[2K\u001b[22A\u001b[2K\u001b[21A\u001b[2K\u001b[19A\u001b[2K\u001b[21A\u001b[2K\u001b[22A\u001b[2K\u001b[20A\u001b[2K\u001b[23A\u001b[2K\u001b[21A\u001b[2K\u001b[19A\u001b[2K\u001b[22A\u001b[2K\u001b[21A\u001b[2K\u001b[22A\u001b[2K\u001b[21A\u001b[2K\u001b[22A\u001b[2K\u001b[21A\u001b[2K\u001b[17A\u001b[2K\u001b[18A\u001b[2K\u001b[22A\u001b[2K\u001b[17A\u001b[2K\u001b[21A\u001b[2K\u001b[18A\u001b[2K\u001b[22A\u001b[2K\u001b[21A\u001b[2K\u001b[17A\u001b[2K\u001b[18A\u001b[2K\u001b[21A\u001b[2K\u001b[18A\u001b[2K\u001b[17A\u001b[2K\u001b[22A\u001b[2K\u001b[19A\u001b[2K\u001b[21A\u001b[2K\u001b[22A\u001b[2K\u001b[17A\u001b[2K\u001b[18A\u001b[2K\u001b[22A\u001b[2K\u001b[17A\u001b[2K\u001b[22A\u001b[2K\u001b[17A\u001b[2K\u001b[22A\u001b[2K\u001b[16A\u001b[2K\u001b[17A\u001b[2K\u001b[21A\u001b[2K\u001b[22A\u001b[2K\u001b[17A\u001b[2K\u001b[15A\u001b[2K\u001b[22A\u001b[2K\u001b[17A\u001b[2K\u001b[18A\u001b[2K\u001b[14A\u001b[2K\u001b[17A\u001b[2K\u001b[22A\u001b[2K\u001b[17A\u001b[2K\u001b[22A\u001b[2K\u001b[22A\u001b[2K\u001b[15A\u001b[2K\u001b[17A\u001b[2K\u001b[22A\u001b[2K\u001b[14A\u001b[2K\u001b[18A\u001b[2K\u001b[13A\u001b[2K\u001b[17A\u001b[2K\u001b[22A\u001b[2K\u001b[12A\u001b[2K\u001b[17A\u001b[2K\u001b[22A\u001b[2K\u001b[13A\u001b[2K\u001b[17A\u001b[2K\u001b[18A\u001b[2K\u001b[17A\u001b[2K\u001b[22A\u001b[2K\u001b[22A\u001b[2K\u001b[12A\u001b[2K\u001b[22A\u001b[2K\u001b[11A\u001b[2K\u001b[22A\u001b[2K\u001b[17A\u001b[2K\u001b[18A\u001b[2K\u001b[10A\u001b[2K\u001b[22A\u001b[2K\u001b[17A\u001b[2K\u001b[22A\u001b[2K\u001b[11A\u001b[2K\u001b[17A\u001b[2K\u001b[22A\u001b[2K\u001b[18A\u001b[2K\u001b[17A\u001b[2K\u001b[9A\u001b[2K\u001b[22A\u001b[2K\u001b[10A\u001b[2K\u001b[22A\u001b[2K\u001b[17A\u001b[2K\u001b[8A\u001b[2K\u001b[17A\u001b[2K\u001b[22A\u001b[2K\u001b[17A\u001b[2K\u001b[9A\u001b[2K\u001b[17A\u001b[2K\u001b[17A\u001b[2K\u001b[8A\u001b[2K\u001b[7A\u001b[2K\u001b[17A\u001b[2K\u001b[7A\u001b[2K\u001b[17A\u001b[2K\u001b[7A\u001b[2K\u001b[22A\u001b[2K\u001b[17A\u001b[2K\u001b[17A\u001b[2K\u001b[7A\u001b[2K\u001b[6A\u001b[2K\u001b[17A\u001b[2K\u001b[18A\u001b[2K\u001b[17A\u001b[2K\u001b[7A\u001b[2K\u001b[17A\u001b[2K\u001b[7A\u001b[2K\u001b[6A\u001b[2K\u001b[7A\u001b[2K\u001b[17A\u001b[2K\u001b[5A\u001b[2K\u001b[22A\u001b[2K\u001b[7A\u001b[2K\u001b[18A\u001b[2K\u001b[17A\u001b[2K\u001b[17A\u001b[2K\u001b[5A\u001b[2K\u001b[7A\u001b[2K\u001b[17A\u001b[2K\u001b[7A\u001b[2K\u001b[17A\u001b[2K\u001b[4A\u001b[2K\u001b[4A\u001b[2K\u001b[22A\u001b[2K\u001b[18A\u001b[2K\u001b[7A\u001b[2K\u001b[17A\u001b[2K\u001b[4A\u001b[2K\u001b[17A\u001b[2K\u001b[18A\u001b[2K\u001b[17A\u001b[2K\u001b[7A\u001b[2K\u001b[4A\u001b[2K\u001b[17A\u001b[2K\u001b[18A\u001b[2K\u001b[7A\u001b[2K\u001b[17A\u001b[2K\u001b[4A\u001b[2K\u001b[7A\u001b[2K\u001b[17A\u001b[2K\u001b[7A\u001b[2K\u001b[4A\u001b[2K\u001b[17A\u001b[2K\u001b[7A\u001b[2K\u001b[7A\u001b[2K\u001b[22A\u001b[2K\u001b[17A\u001b[2K\u001b[7A\u001b[2K\u001b[18A\u001b[2K\u001b[17A\u001b[2K\u001b[4A\u001b[2K\u001b[22A\u001b[2K\u001b[7A\u001b[2K\u001b[18A\u001b[2K\u001b[17A\u001b[2K\u001b[4A\u001b[2K\u001b[7A\u001b[2K\u001b[22A\u001b[2K\u001b[7A\u001b[2K\u001b[17A\u001b[2K\u001b[4A\u001b[2K\u001b[18A\u001b[2K\u001b[17A\u001b[2K\u001b[7A\u001b[2K\u001b[17A\u001b[2K\u001b[22A\u001b[2K\u001b[4A\u001b[2K\u001b[17A\u001b[2K\u001b[7A\u001b[2K\u001b[18A\u001b[2K\u001b[4A\u001b[2K\u001b[7A\u001b[2K\u001b[4A\u001b[2K\u001b[22A\u001b[2K\u001b[17A\u001b[2K\u001b[4A\u001b[2K\u001b[7A\u001b[2K\u001b[17A\u001b[2K\u001b[4A\u001b[2K\u001b[7A\u001b[2K\u001b[22A\u001b[2K\u001b[4A\u001b[2K\u001b[4A\u001b[2K\u001b[17A\u001b[2K\u001b[18A\u001b[2K\u001b[7A\u001b[2K\u001b[4A\u001b[2K\u001b[4A\u001b[2K\u001b[17A\u001b[2K\u001b[4A\u001b[2K\u001b[18A\u001b[2K\u001b[7A\u001b[2K\u001b[4A\u001b[2K\u001b[17A\u001b[2K\u001b[7A\u001b[2K\u001b[4A\u001b[2K\u001b[17A\u001b[2K\u001b[17A\u001b[2K\u001b[7A\u001b[2K\u001b[22A\u001b[2K\u001b[17A\u001b[2K\u001b[4A\u001b[2K\u001b[17A\u001b[2K\u001b[7A\u001b[2K\u001b[18A\u001b[2K\u001b[17A\u001b[2K\u001b[22A\u001b[2K\u001b[4A\u001b[2K\u001b[7A\u001b[2K\u001b[17A\u001b[2K\u001b[18A\u001b[2K\u001b[4A\u001b[2K\u001b[17A\u001b[2K\u001b[22A\u001b[2K\u001b[7A\u001b[2K\u001b[7A\u001b[2K\u001b[4A\u001b[2K\u001b[17A\u001b[2K\u001b[7A\u001b[2K\u001b[18A\u001b[2K\u001b[4A\u001b[2K\u001b[7A\u001b[2K\u001b[17A\u001b[2K\u001b[4A\u001b[2K\u001b[17A\u001b[2K\u001b[4A\u001b[2K\u001b[17A\u001b[2K\u001b[17A\u001b[2K\u001b[22A\u001b[2K\u001b[7A\u001b[2K\u001b[17A\u001b[2K\u001b[17A\u001b[2K\u001b[7A\u001b[2K\u001b[18A\u001b[2K\u001b[17A\u001b[2K\u001b[7A\u001b[2K\u001b[4A\u001b[2K\u001b[7A\u001b[2K\u001b[17A\u001b[2K\u001b[22A\u001b[2K\u001b[7A\u001b[2K\u001b[18A\u001b[2K\u001b[17A\u001b[2K\u001b[7A\u001b[2K\u001b[22A\u001b[2K\u001b[18A\u001b[2K\u001b[17A\u001b[2K\u001b[4A\u001b[2K\u001b[7A\u001b[2K\u001b[22A\u001b[2K\u001b[17A\u001b[2K\u001b[7A\u001b[2K\u001b[18A\u001b[2K\u001b[22A\u001b[2K\u001b[17A\u001b[2K\u001b[4A\u001b[2K\u001b[7A\u001b[2K\u001b[18A\u001b[2K\u001b[17A\u001b[2K\u001b[7A\u001b[2K\u001b[17A\u001b[2K\u001b[17A\u001b[2K\u001b[7A\u001b[2K\u001b[17A\u001b[2K\u001b[18A\u001b[2K\u001b[4A\u001b[2K\u001b[22A\u001b[2K\u001b[7A\u001b[2K\u001b[17A\u001b[2K\u001b[17A\u001b[2K\u001b[7A\u001b[2K\u001b[7A\u001b[2K\u001b[17A\u001b[2K\u001b[22A\u001b[2K\u001b[7A\u001b[2K\u001b[18A\u001b[2K\u001b[4A\u001b[2K\u001b[7A\u001b[2K\u001b[17A\u001b[2K\u001b[22A\u001b[2K\u001b[7A\u001b[2K\u001b[17A\u001b[2K\u001b[7A\u001b[2K\u001b[17A\u001b[2K\u001b[17A\u001b[2K\u001b[7A\u001b[2K\u001b[18A\u001b[2K\u001b[22A\u001b[2K\u001b[17A\u001b[2K\u001b[4A\u001b[2K\u001b[17A\u001b[2K\u001b[17A\u001b[2K\u001b[7A\u001b[2K\u001b[4A\u001b[2K\u001b[17A\u001b[2K^C\n"
     ]
    }
   ],
   "source": [
    "!docker push melnamoury/kubeflow-sdk-farmer"
   ]
  },
  {
   "cell_type": "markdown",
   "metadata": {},
   "source": [
    "## Install Kubeflow SDk"
   ]
  },
  {
   "cell_type": "code",
   "execution_count": 36,
   "metadata": {},
   "outputs": [
    {
     "name": "stdout",
     "output_type": "stream",
     "text": [
      "Requirement already satisfied: kfp in /home/melnamoury/anaconda3/envs/hug_face/lib/python3.8/site-packages (1.8.13)\n",
      "Requirement already satisfied: kubernetes<19,>=8.0.0 in /home/melnamoury/anaconda3/envs/hug_face/lib/python3.8/site-packages (from kfp) (18.20.0)\n",
      "Requirement already satisfied: pydantic<2,>=1.8.2 in /home/melnamoury/anaconda3/envs/hug_face/lib/python3.8/site-packages (from kfp) (1.9.1)\n",
      "Requirement already satisfied: click<9,>=7.1.2 in /home/melnamoury/anaconda3/envs/hug_face/lib/python3.8/site-packages (from kfp) (8.0.4)\n",
      "Requirement already satisfied: google-auth<2,>=1.6.1 in /home/melnamoury/anaconda3/envs/hug_face/lib/python3.8/site-packages (from kfp) (1.35.0)\n",
      "Requirement already satisfied: Deprecated<2,>=1.2.7 in /home/melnamoury/anaconda3/envs/hug_face/lib/python3.8/site-packages (from kfp) (1.2.13)\n",
      "Requirement already satisfied: protobuf<4,>=3.13.0 in /home/melnamoury/anaconda3/envs/hug_face/lib/python3.8/site-packages (from kfp) (3.20.1)\n",
      "Requirement already satisfied: jsonschema<4,>=3.0.1 in /home/melnamoury/anaconda3/envs/hug_face/lib/python3.8/site-packages (from kfp) (3.2.0)\n",
      "Requirement already satisfied: fire<1,>=0.3.1 in /home/melnamoury/anaconda3/envs/hug_face/lib/python3.8/site-packages (from kfp) (0.4.0)\n",
      "Requirement already satisfied: requests-toolbelt<1,>=0.8.0 in /home/melnamoury/anaconda3/envs/hug_face/lib/python3.8/site-packages (from kfp) (0.9.1)\n",
      "Requirement already satisfied: cloudpickle<3,>=2.0.0 in /home/melnamoury/anaconda3/envs/hug_face/lib/python3.8/site-packages (from kfp) (2.1.0)\n",
      "Requirement already satisfied: google-cloud-storage<2,>=1.20.0 in /home/melnamoury/anaconda3/envs/hug_face/lib/python3.8/site-packages (from kfp) (1.44.0)\n",
      "Requirement already satisfied: absl-py<2,>=0.9 in /home/melnamoury/anaconda3/envs/hug_face/lib/python3.8/site-packages (from kfp) (1.2.0)\n",
      "Requirement already satisfied: kfp-server-api<2.0.0,>=1.1.2 in /home/melnamoury/anaconda3/envs/hug_face/lib/python3.8/site-packages (from kfp) (1.8.4)\n",
      "Requirement already satisfied: typing-extensions<5,>=3.7.4 in /home/melnamoury/anaconda3/envs/hug_face/lib/python3.8/site-packages (from kfp) (4.1.1)\n",
      "Requirement already satisfied: google-api-core!=2.0.*,!=2.1.*,!=2.2.*,!=2.3.0,<3.0.0dev,>=1.31.5 in /home/melnamoury/anaconda3/envs/hug_face/lib/python3.8/site-packages (from kfp) (2.8.2)\n",
      "Requirement already satisfied: google-api-python-client<2,>=1.7.8 in /home/melnamoury/anaconda3/envs/hug_face/lib/python3.8/site-packages (from kfp) (1.12.11)\n",
      "Requirement already satisfied: typer<1.0,>=0.3.2 in /home/melnamoury/anaconda3/envs/hug_face/lib/python3.8/site-packages (from kfp) (0.6.1)\n",
      "Requirement already satisfied: kfp-pipeline-spec<0.2.0,>=0.1.14 in /home/melnamoury/anaconda3/envs/hug_face/lib/python3.8/site-packages (from kfp) (0.1.16)\n",
      "Requirement already satisfied: uritemplate<4,>=3.0.1 in /home/melnamoury/anaconda3/envs/hug_face/lib/python3.8/site-packages (from kfp) (3.0.1)\n",
      "Requirement already satisfied: strip-hints<1,>=0.1.8 in /home/melnamoury/anaconda3/envs/hug_face/lib/python3.8/site-packages (from kfp) (0.1.10)\n",
      "Requirement already satisfied: docstring-parser<1,>=0.7.3 in /home/melnamoury/anaconda3/envs/hug_face/lib/python3.8/site-packages (from kfp) (0.14.1)\n",
      "Requirement already satisfied: PyYAML<6,>=5.3 in /home/melnamoury/anaconda3/envs/hug_face/lib/python3.8/site-packages (from kfp) (5.4.1)\n",
      "Requirement already satisfied: tabulate<1,>=0.8.6 in /home/melnamoury/anaconda3/envs/hug_face/lib/python3.8/site-packages (from kfp) (0.8.10)\n",
      "Requirement already satisfied: wrapt<2,>=1.10 in /home/melnamoury/anaconda3/envs/hug_face/lib/python3.8/site-packages (from Deprecated<2,>=1.2.7->kfp) (1.14.1)\n",
      "Requirement already satisfied: termcolor in /home/melnamoury/anaconda3/envs/hug_face/lib/python3.8/site-packages (from fire<1,>=0.3.1->kfp) (1.1.0)\n",
      "Requirement already satisfied: six in /home/melnamoury/anaconda3/envs/hug_face/lib/python3.8/site-packages (from fire<1,>=0.3.1->kfp) (1.16.0)\n",
      "Requirement already satisfied: requests<3.0.0dev,>=2.18.0 in /home/melnamoury/anaconda3/envs/hug_face/lib/python3.8/site-packages (from google-api-core!=2.0.*,!=2.1.*,!=2.2.*,!=2.3.0,<3.0.0dev,>=1.31.5->kfp) (2.27.1)\n",
      "Requirement already satisfied: googleapis-common-protos<2.0dev,>=1.56.2 in /home/melnamoury/anaconda3/envs/hug_face/lib/python3.8/site-packages (from google-api-core!=2.0.*,!=2.1.*,!=2.2.*,!=2.3.0,<3.0.0dev,>=1.31.5->kfp) (1.56.4)\n",
      "Requirement already satisfied: google-auth-httplib2>=0.0.3 in /home/melnamoury/anaconda3/envs/hug_face/lib/python3.8/site-packages (from google-api-python-client<2,>=1.7.8->kfp) (0.1.0)\n",
      "Requirement already satisfied: httplib2<1dev,>=0.15.0 in /home/melnamoury/anaconda3/envs/hug_face/lib/python3.8/site-packages (from google-api-python-client<2,>=1.7.8->kfp) (0.20.4)\n",
      "Requirement already satisfied: pyasn1-modules>=0.2.1 in /home/melnamoury/anaconda3/envs/hug_face/lib/python3.8/site-packages (from google-auth<2,>=1.6.1->kfp) (0.2.8)\n",
      "Requirement already satisfied: rsa<5,>=3.1.4 in /home/melnamoury/anaconda3/envs/hug_face/lib/python3.8/site-packages (from google-auth<2,>=1.6.1->kfp) (4.9)\n",
      "Requirement already satisfied: setuptools>=40.3.0 in /home/melnamoury/anaconda3/envs/hug_face/lib/python3.8/site-packages (from google-auth<2,>=1.6.1->kfp) (61.2.0)\n",
      "Requirement already satisfied: cachetools<5.0,>=2.0.0 in /home/melnamoury/anaconda3/envs/hug_face/lib/python3.8/site-packages (from google-auth<2,>=1.6.1->kfp) (4.2.4)\n",
      "Requirement already satisfied: google-resumable-media<3.0dev,>=1.3.0 in /home/melnamoury/anaconda3/envs/hug_face/lib/python3.8/site-packages (from google-cloud-storage<2,>=1.20.0->kfp) (2.3.3)\n",
      "Requirement already satisfied: google-cloud-core<3.0dev,>=1.6.0 in /home/melnamoury/anaconda3/envs/hug_face/lib/python3.8/site-packages (from google-cloud-storage<2,>=1.20.0->kfp) (2.3.2)\n",
      "Requirement already satisfied: google-crc32c<2.0dev,>=1.0 in /home/melnamoury/anaconda3/envs/hug_face/lib/python3.8/site-packages (from google-resumable-media<3.0dev,>=1.3.0->google-cloud-storage<2,>=1.20.0->kfp) (1.3.0)\n",
      "Requirement already satisfied: pyparsing!=3.0.0,!=3.0.1,!=3.0.2,!=3.0.3,<4,>=2.4.2 in /home/melnamoury/anaconda3/envs/hug_face/lib/python3.8/site-packages (from httplib2<1dev,>=0.15.0->google-api-python-client<2,>=1.7.8->kfp) (3.0.4)\n",
      "Requirement already satisfied: pyrsistent>=0.14.0 in /home/melnamoury/anaconda3/envs/hug_face/lib/python3.8/site-packages (from jsonschema<4,>=3.0.1->kfp) (0.18.0)\n",
      "Requirement already satisfied: attrs>=17.4.0 in /home/melnamoury/anaconda3/envs/hug_face/lib/python3.8/site-packages (from jsonschema<4,>=3.0.1->kfp) (21.4.0)\n",
      "Requirement already satisfied: python-dateutil in /home/melnamoury/anaconda3/envs/hug_face/lib/python3.8/site-packages (from kfp-server-api<2.0.0,>=1.1.2->kfp) (2.8.2)\n",
      "Requirement already satisfied: urllib3>=1.15 in /home/melnamoury/anaconda3/envs/hug_face/lib/python3.8/site-packages (from kfp-server-api<2.0.0,>=1.1.2->kfp) (1.26.9)\n",
      "Requirement already satisfied: certifi in /home/melnamoury/anaconda3/envs/hug_face/lib/python3.8/site-packages (from kfp-server-api<2.0.0,>=1.1.2->kfp) (2022.6.15)\n",
      "Requirement already satisfied: websocket-client!=0.40.0,!=0.41.*,!=0.42.*,>=0.32.0 in /home/melnamoury/anaconda3/envs/hug_face/lib/python3.8/site-packages (from kubernetes<19,>=8.0.0->kfp) (1.3.3)\n",
      "Requirement already satisfied: requests-oauthlib in /home/melnamoury/anaconda3/envs/hug_face/lib/python3.8/site-packages (from kubernetes<19,>=8.0.0->kfp) (1.3.1)\n",
      "Requirement already satisfied: pyasn1<0.5.0,>=0.4.6 in /home/melnamoury/anaconda3/envs/hug_face/lib/python3.8/site-packages (from pyasn1-modules>=0.2.1->google-auth<2,>=1.6.1->kfp) (0.4.8)\n",
      "Requirement already satisfied: idna<4,>=2.5 in /home/melnamoury/anaconda3/envs/hug_face/lib/python3.8/site-packages (from requests<3.0.0dev,>=2.18.0->google-api-core!=2.0.*,!=2.1.*,!=2.2.*,!=2.3.0,<3.0.0dev,>=1.31.5->kfp) (3.3)\n",
      "Requirement already satisfied: charset-normalizer~=2.0.0 in /home/melnamoury/anaconda3/envs/hug_face/lib/python3.8/site-packages (from requests<3.0.0dev,>=2.18.0->google-api-core!=2.0.*,!=2.1.*,!=2.2.*,!=2.3.0,<3.0.0dev,>=1.31.5->kfp) (2.0.4)\n",
      "Requirement already satisfied: wheel in /home/melnamoury/anaconda3/envs/hug_face/lib/python3.8/site-packages (from strip-hints<1,>=0.1.8->kfp) (0.37.1)\n",
      "Requirement already satisfied: oauthlib>=3.0.0 in /home/melnamoury/anaconda3/envs/hug_face/lib/python3.8/site-packages (from requests-oauthlib->kubernetes<19,>=8.0.0->kfp) (3.2.0)\n"
     ]
    }
   ],
   "source": [
    "!pip install kfp"
   ]
  },
  {
   "cell_type": "markdown",
   "metadata": {},
   "source": [
    "# Building Kubeflow Pipeline"
   ]
  },
  {
   "cell_type": "code",
   "execution_count": 37,
   "metadata": {},
   "outputs": [],
   "source": [
    "import kfp\n",
    "import kfp.components as comp\n",
    "from kubernetes.client.models import V1EnvVar"
   ]
  },
  {
   "cell_type": "markdown",
   "metadata": {},
   "source": [
    "## Define kubeflow pipeline Component"
   ]
  },
  {
   "cell_type": "code",
   "execution_count": 38,
   "metadata": {},
   "outputs": [],
   "source": [
    "@kfp.dsl.component\n",
    "def get_data():\n",
    "    # Defining component configuration\n",
    "    getdata_component = kfp.dsl.ContainerOp(\n",
    "        name='Data-Preparation',\n",
    "        image='docker.io/ankitaj86/kubeflow-sdk-farmer',\n",
    "        command=['python', 'get_data.py'],\n",
    "        )\n",
    "    return getdata_component"
   ]
  },
  {
   "cell_type": "code",
   "execution_count": 39,
   "metadata": {},
   "outputs": [],
   "source": [
    "@kfp.dsl.component\n",
    "def data_preprocessing():    \n",
    "    # Defining component configuration\n",
    "    data_preprocessing = kfp.dsl.ContainerOp(\n",
    "        name='data-preprocessing',\n",
    "        image='docker.io/ankitaj86/kubeflow-sdk-farmer',\n",
    "        command=['python', 'process_data.py'],\n",
    "        )\n",
    "    return data_preprocessing"
   ]
  },
  {
   "cell_type": "code",
   "execution_count": 40,
   "metadata": {},
   "outputs": [],
   "source": [
    "@kfp.dsl.component\n",
    "def training():\n",
    "    # Defining component configuration\n",
    "    training_component = kfp.dsl.ContainerOp(\n",
    "        name='training',\n",
    "        image='docker.io/ankitaj86/kubeflow-sdk-farmer',\n",
    "        command=['python', 'train.py'],\n",
    "        file_outputs={'mlpipeline-ui-metadata':'/mlpipeline-ui-metadata.json', \"mlpipeline-metrics\":'/mlpipeline-metrics.json'}\n",
    "        )\n",
    "    \n",
    "    return training_component"
   ]
  },
  {
   "cell_type": "code",
   "execution_count": 41,
   "metadata": {},
   "outputs": [
    {
     "name": "stdout",
     "output_type": "stream",
     "text": [
      "{'ContainerOp': {'is_exit_handler': False, 'human_name': 'training', 'display_name': None, 'name': 'training 800007f7074a6f5b', 'node_selector': {}, 'volumes': [], 'tolerations': [], 'affinity': {}, 'pod_annotations': {}, 'pod_labels': {}, 'num_retries': 0, 'retry_policy': None, 'backoff_factor': None, 'backoff_duration': None, 'backoff_max_duration': None, 'timeout': 0, 'init_containers': [], 'sidecars': [], 'loop_args': None, '_component_spec_inputs_with_pipeline_params': [], '_inputs': [], 'dependent_names': [], 'enable_caching': True, 'attrs_with_pipelineparams': ['node_selector', 'volumes', 'pod_annotations', 'pod_labels', 'num_retries', 'init_containers', 'sidecars', 'tolerations', '_container', 'artifact_arguments', '_parameter_arguments'], '_is_v2': False, '_container': {'args': None,\n",
      " 'command': ['python', 'train.py'],\n",
      " 'env': None,\n",
      " 'env_from': None,\n",
      " 'image': 'docker.io/ankitaj86/kubeflow-sdk-farmer',\n",
      " 'image_pull_policy': None,\n",
      " 'lifecycle': None,\n",
      " 'liveness_probe': None,\n",
      " 'ports': None,\n",
      " 'readiness_probe': None,\n",
      " 'resources': None,\n",
      " 'security_context': None,\n",
      " 'startup_probe': None,\n",
      " 'stdin': None,\n",
      " 'stdin_once': None,\n",
      " 'termination_message_path': None,\n",
      " 'termination_message_policy': None,\n",
      " 'tty': None,\n",
      " 'volume_devices': None,\n",
      " 'volume_mounts': None,\n",
      " 'working_dir': None}, 'add_env_from': <function deprecation_warning.<locals>._wrapped at 0x7f7074a9ce50>, 'add_env_variable': <function deprecation_warning.<locals>._wrapped at 0x7f7074a9cf70>, 'add_port': <function deprecation_warning.<locals>._wrapped at 0x7f7074a260d0>, 'add_resource_limit': <function deprecation_warning.<locals>._wrapped at 0x7f7074a261f0>, 'add_resource_request': <function deprecation_warning.<locals>._wrapped at 0x7f7074a26310>, 'add_volume_devices': <function deprecation_warning.<locals>._wrapped at 0x7f7074a26430>, 'add_volume_mount': <function deprecation_warning.<locals>._wrapped at 0x7f7074a26550>, 'get_resource_limit': <function deprecation_warning.<locals>._wrapped at 0x7f7074a26670>, 'get_resource_request': <function deprecation_warning.<locals>._wrapped at 0x7f7074a26790>, 'set_cpu_limit': <function deprecation_warning.<locals>._wrapped at 0x7f7074a268b0>, 'set_cpu_request': <function deprecation_warning.<locals>._wrapped at 0x7f7074a269d0>, 'set_env_variable': <function deprecation_warning.<locals>._wrapped at 0x7f7074a26af0>, 'set_ephemeral_storage_limit': <function deprecation_warning.<locals>._wrapped at 0x7f7074a26c10>, 'set_ephemeral_storage_request': <function deprecation_warning.<locals>._wrapped at 0x7f7074a26d30>, 'set_gpu_limit': <function deprecation_warning.<locals>._wrapped at 0x7f7074a26e50>, 'set_image_pull_policy': <function deprecation_warning.<locals>._wrapped at 0x7f7074a26f70>, 'set_lifecycle': <function deprecation_warning.<locals>._wrapped at 0x7f7074a2c0d0>, 'set_liveness_probe': <function deprecation_warning.<locals>._wrapped at 0x7f7074a2c1f0>, 'set_memory_limit': <function deprecation_warning.<locals>._wrapped at 0x7f7074a2c310>, 'set_memory_request': <function deprecation_warning.<locals>._wrapped at 0x7f7074a2c430>, 'set_readiness_probe': <function deprecation_warning.<locals>._wrapped at 0x7f7074a2c550>, 'set_security_context': <function deprecation_warning.<locals>._wrapped at 0x7f7074a2c670>, 'set_stdin': <function deprecation_warning.<locals>._wrapped at 0x7f7074a2c790>, 'set_stdin_once': <function deprecation_warning.<locals>._wrapped at 0x7f7074a2c8b0>, 'set_termination_message_path': <function deprecation_warning.<locals>._wrapped at 0x7f7074a2c9d0>, 'set_termination_message_policy': <function deprecation_warning.<locals>._wrapped at 0x7f7074a2caf0>, 'set_tty': <function deprecation_warning.<locals>._wrapped at 0x7f7074a2cc10>, 'input_artifact_paths': {}, 'artifact_arguments': {}, 'file_outputs': {}, 'output_artifact_paths': {'mlpipeline-ui-metadata': '/mlpipeline-ui-metadata.json', 'mlpipeline-metrics': '/mlpipeline-metrics.json'}, '_metadata': ComponentSpec(name='Training', description=None, metadata=None, inputs=None, outputs=None, implementation=None, version='google.com/cloud/pipelines/component/v1'), '_parameter_arguments': None, 'execution_options': ExecutionOptionsSpec(retry_strategy=None, caching_strategy=CachingStrategySpec(max_cache_staleness=None)), 'outputs': {}, 'output': <kfp.dsl._container_op._MultipleOutputsError object at 0x7f7074a6f910>, 'pvolumes': {}, 'pvolume': None}}\n"
     ]
    },
    {
     "name": "stderr",
     "output_type": "stream",
     "text": [
      "/home/melnamoury/anaconda3/envs/hug_face/lib/python3.8/site-packages/kfp/dsl/_container_op.py:1257: FutureWarning: Please create reusable components instead of constructing ContainerOp instances directly. Reusable components are shareable, portable and have compatibility and support guarantees. Please see the documentation: https://www.kubeflow.org/docs/pipelines/sdk/component-development/#writing-your-component-definition-file The components can be created manually (or, in case of python, using kfp.components.create_component_from_func or func_to_container_op) and then loaded using kfp.components.load_component_from_file, load_component_from_uri or load_component_from_text: https://kubeflow-pipelines.readthedocs.io/en/stable/source/kfp.components.html#kfp.components.load_component_from_file\n",
      "  warnings.warn(\n"
     ]
    }
   ],
   "source": [
    "# Let see output of component configuration\n",
    "debug = True\n",
    "if debug :\n",
    "    training_component_vis = training()\n",
    "    print(training_component_vis)"
   ]
  },
  {
   "cell_type": "markdown",
   "metadata": {},
   "source": [
    "## Final Kubeflow pipeline Definition"
   ]
  },
  {
   "cell_type": "code",
   "execution_count": 43,
   "metadata": {},
   "outputs": [],
   "source": [
    "@kfp.dsl.pipeline(\n",
    "  name=\"Modeling simple sentiment Analysis pipeline\",\n",
    "  description=\"First intilaized pipeline to run over Kubeflow\"\n",
    ")\n",
    "def kfp_pipline():\n",
    "    download_data = get_data()\n",
    "    download_data.execution_options.caching_strategy.max_cache_staleness = \"P0D\"\n",
    "    data_processing = data_preprocessing().after(download_data)\n",
    "    data_processing.execution_options.caching_strategy.max_cache_staleness = \"P0D\"\n",
    "    train = training().after(data_processing)\n",
    "    train.execution_options.caching_strategy.max_cache_staleness = \"P0D\"\n"
   ]
  },
  {
   "cell_type": "code",
   "execution_count": null,
   "metadata": {},
   "outputs": [],
   "source": [
    "# Let see output of pipeline configuration\n",
    "debug = True\n",
    "if debug :\n",
    "    training_pipeline_output = kfp_pipline()\n",
    "    print(training_pipeline_output)"
   ]
  },
  {
   "cell_type": "markdown",
   "metadata": {},
   "source": [
    "## Compile Kubeflow Pipeline \n",
    "* It will Generate .zip file inside this contain YAMl file which contain the configuration of kubeflow pipeline"
   ]
  },
  {
   "cell_type": "code",
   "execution_count": null,
   "metadata": {},
   "outputs": [],
   "source": [
    "kfp.compiler.Compiler().compile(kfp_pipline, 'farmer-kubeflow-sdk-demo.zip')"
   ]
  },
  {
   "cell_type": "markdown",
   "metadata": {},
   "source": [
    "## Connect to deployed kubeflow pipeline Endpoint (GCP)"
   ]
  },
  {
   "cell_type": "code",
   "execution_count": null,
   "metadata": {},
   "outputs": [],
   "source": [
    "# Create kfp client\n",
    "# Note: Add the KubeFlow Pipeline endpoint below if the client is not running on the same cluster.\n",
    "client = kfp.Client(\"57f227181c3ac171-dot-us-central1.pipelines.googleusercontent.com\")"
   ]
  },
  {
   "cell_type": "markdown",
   "metadata": {},
   "source": [
    "### Create Experiment "
   ]
  },
  {
   "cell_type": "code",
   "execution_count": null,
   "metadata": {},
   "outputs": [],
   "source": [
    "EXPERIMENT_NAME = 'First-Pipeline-1'\n",
    "experiment = client.create_experiment(name=EXPERIMENT_NAME)"
   ]
  },
  {
   "cell_type": "markdown",
   "metadata": {},
   "source": [
    "### Deploy pipeline to kubeflow pipeline Endpoint"
   ]
  },
  {
   "cell_type": "code",
   "execution_count": null,
   "metadata": {},
   "outputs": [],
   "source": [
    "run = client.run_pipeline(experiment.id, 'First-run-3', 'Sentiment-kubeflow-sdk-demo.zip')"
   ]
  }
 ],
 "metadata": {
  "environment": {
   "name": "common-cpu.m65",
   "type": "gcloud",
   "uri": "gcr.io/deeplearning-platform-release/base-cpu:m65"
  },
  "kernelspec": {
   "display_name": "Python 3.8.13 ('hug_face')",
   "language": "python",
   "name": "python3"
  },
  "language_info": {
   "codemirror_mode": {
    "name": "ipython",
    "version": 3
   },
   "file_extension": ".py",
   "mimetype": "text/x-python",
   "name": "python",
   "nbconvert_exporter": "python",
   "pygments_lexer": "ipython3",
   "version": "3.8.13"
  },
  "vscode": {
   "interpreter": {
    "hash": "ab6ebd51a1e40131fce70f53f720f80af83c6d71b2f012dccbfffe0f5a462b20"
   }
  }
 },
 "nbformat": 4,
 "nbformat_minor": 4
}
